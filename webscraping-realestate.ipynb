{
 "cells": [
  {
   "cell_type": "code",
   "execution_count": 215,
   "metadata": {},
   "outputs": [
    {
     "data": {
      "text/plain": [
       "'$1,399,000'"
      ]
     },
     "execution_count": 215,
     "metadata": {},
     "output_type": "execute_result"
    }
   ],
   "source": [
    "# Import Libraries\n",
    "import requests\n",
    "from bs4 import BeautifulSoup\n",
    "\n",
    "# Variables\n",
    "r = requests.get(\"https://www.rew.ca/properties/search/984600159/\")\n",
    "c = r.content\n",
    "\n",
    "# Cleaning the HTML\n",
    "soup = BeautifulSoup(c, \"html.parser\")\n",
    "\n",
    "# Getting the list class\n",
    "all = soup.find_all(\"div\",{\"class\":\"displaypanel-wrapper\"})\n",
    "\n",
    "# Searching for the price\n",
    "all[0].find(\"div\",{\"class\":\"displaypanel-title hidden-xs\"}).text.replace(\"\\n\",\"\")"
   ]
  },
  {
   "cell_type": "code",
   "execution_count": 216,
   "metadata": {},
   "outputs": [
    {
     "data": {
      "text/plain": [
       "'1 ba'"
      ]
     },
     "execution_count": 216,
     "metadata": {},
     "output_type": "execute_result"
    }
   ],
   "source": [
    "# Searching for the price\n",
    "all[0].find(\"div\",{\"class\":\"displaypanel-title hidden-xs\"}).text.replace(\"\\n\",\"\")\n",
    "all[0].find_all(\"a\")[0][\"title\"]\n",
    "details = all[0].find_all(\"ul\",{\"class\":\"l-pipedlist\"})[1].find_all(\"li\")\n",
    "details[1].text"
   ]
  },
  {
   "cell_type": "code",
   "execution_count": 217,
   "metadata": {},
   "outputs": [],
   "source": [
    "list = []\n",
    "for item in all:\n",
    "    d = {}\n",
    "    \n",
    "    d[\"Price\"] = item.find(\"div\",{\"class\":\"displaypanel-title hidden-xs\"}).text.replace(\"\\n\",\"\")\n",
    "    \n",
    "    d[\"Address\"] = item.find_all(\"a\")[0][\"title\"]\n",
    "    \n",
    "    details = item.find_all(\"ul\",{\"class\":\"l-pipedlist\"})[1].find_all(\"li\")\n",
    "    for i in range(len(details)):\n",
    "        if 'bd' in details[i].text:\n",
    "            d[\"Bedroom\"] = details[i].text.replace(\" bd\",\"\")\n",
    "        elif 'ba' in details[i].text:\n",
    "            d[\"Bathroom\"] = details[i].text.replace(\" ba\",\"\")\n",
    "        elif 'sf' in details[i].text:\n",
    "            d[\"Square Foot\"] = details[i].text.replace(\" sf\",\"\")\n",
    "        elif 'ft' in details[i].text:\n",
    "            d[\"Feet\"] = details[i].text.replace(\" ft\",\"\")\n",
    "        else:\n",
    "            pass\n",
    "    \n",
    "    list.append(d)"
   ]
  },
  {
   "cell_type": "code",
   "execution_count": 218,
   "metadata": {},
   "outputs": [],
   "source": [
    "import pandas as pd\n",
    "df = pd.DataFrame(list)\n",
    "df.to_csv(\"properties.csv\")"
   ]
  },
  {
   "cell_type": "code",
   "execution_count": 229,
   "metadata": {},
   "outputs": [
    {
     "name": "stdout",
     "output_type": "stream",
     "text": [
      "https://www.rew.ca/properties/search/984600159/page/1\n"
     ]
    }
   ],
   "source": [
    "base_url = \"https://www.rew.ca/properties/search/984600159/page/\"\n",
    "for page in range(1, 2, 3):\n",
    "    print(base_url+str(page))"
   ]
  }
 ],
 "metadata": {
  "kernelspec": {
   "display_name": "Python 3",
   "language": "python",
   "name": "python3"
  },
  "language_info": {
   "codemirror_mode": {
    "name": "ipython",
    "version": 3
   },
   "file_extension": ".py",
   "mimetype": "text/x-python",
   "name": "python",
   "nbconvert_exporter": "python",
   "pygments_lexer": "ipython3",
   "version": "3.7.3"
  }
 },
 "nbformat": 4,
 "nbformat_minor": 2
}
