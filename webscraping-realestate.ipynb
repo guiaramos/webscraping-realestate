{
 "cells": [
  {
   "cell_type": "code",
   "execution_count": 294,
   "metadata": {},
   "outputs": [],
   "source": [
    "# Import Libraries\n",
    "import requests\n",
    "from bs4 import BeautifulSoup\n",
    "import pandas as pd"
   ]
  },
  {
   "cell_type": "code",
   "execution_count": 295,
   "metadata": {},
   "outputs": [
    {
     "data": {
      "text/plain": [
       "25"
      ]
     },
     "execution_count": 295,
     "metadata": {},
     "output_type": "execute_result"
    }
   ],
   "source": [
    "# Locating the number of pages\n",
    "n_url = \"https://www.rew.ca/properties/search/984600159/page/1\"\n",
    "r = requests.get(n_url)\n",
    "c = r.content\n",
    "\n",
    "# Cleaning the URL\n",
    "soup = BeautifulSoup(c, \"html.parser\")\n",
    "\n",
    "# Search for the link with the info.\n",
    "n_pageStr = soup.find_all(\"a\",{\"rel\":\"next\"})\n",
    "\n",
    "# Getting the number and transforming it into int\n",
    "n_page = int(n_pageStr[0][\"total_pages\"])\n",
    "\n",
    "# Print the number of pages\n",
    "n_page"
   ]
  },
  {
   "cell_type": "code",
   "execution_count": 298,
   "metadata": {},
   "outputs": [
    {
     "name": "stdout",
     "output_type": "stream",
     "text": [
      "https://www.rew.ca/properties/search/984600159/page/1\n",
      "https://www.rew.ca/properties/search/984600159/page/2\n",
      "https://www.rew.ca/properties/search/984600159/page/3\n",
      "https://www.rew.ca/properties/search/984600159/page/4\n",
      "https://www.rew.ca/properties/search/984600159/page/5\n",
      "https://www.rew.ca/properties/search/984600159/page/6\n",
      "https://www.rew.ca/properties/search/984600159/page/7\n",
      "https://www.rew.ca/properties/search/984600159/page/8\n",
      "https://www.rew.ca/properties/search/984600159/page/9\n",
      "https://www.rew.ca/properties/search/984600159/page/10\n",
      "https://www.rew.ca/properties/search/984600159/page/11\n",
      "https://www.rew.ca/properties/search/984600159/page/12\n",
      "https://www.rew.ca/properties/search/984600159/page/13\n",
      "https://www.rew.ca/properties/search/984600159/page/14\n",
      "https://www.rew.ca/properties/search/984600159/page/15\n",
      "https://www.rew.ca/properties/search/984600159/page/16\n",
      "https://www.rew.ca/properties/search/984600159/page/17\n",
      "https://www.rew.ca/properties/search/984600159/page/18\n",
      "https://www.rew.ca/properties/search/984600159/page/19\n",
      "https://www.rew.ca/properties/search/984600159/page/20\n",
      "https://www.rew.ca/properties/search/984600159/page/21\n",
      "https://www.rew.ca/properties/search/984600159/page/22\n",
      "https://www.rew.ca/properties/search/984600159/page/23\n",
      "https://www.rew.ca/properties/search/984600159/page/24\n",
      "https://www.rew.ca/properties/search/984600159/page/25\n"
     ]
    }
   ],
   "source": [
    "# Base URL of the search:\n",
    "base_url = \"https://www.rew.ca/properties/search/984600159/page/\"\n",
    "\n",
    "# Defining List:\n",
    "list = []\n",
    "\n",
    "# Interating with each page\n",
    "for page in range(1, n_page+1):\n",
    "    \n",
    "    # Printing the current page of interation\n",
    "    print(base_url+str(page))\n",
    "    \n",
    "    # Getting and Cleaning the page content\n",
    "    r = requests.get(base_url+str(page))\n",
    "    c = r.content\n",
    "    soup = BeautifulSoup(c, \"html.parser\")\n",
    "    \n",
    "    # Assigning Main TAG of the resources\n",
    "    all = soup.find_all(\"div\",{\"class\":\"displaypanel-wrapper\"})\n",
    "\n",
    "    # Interating with each item of the tag:\n",
    "    for item in all:\n",
    "        # Defining temp list\n",
    "        d = {}\n",
    "        \n",
    "        # Getting the Price\n",
    "        d[\"Price\"] = int(item.find(\"div\",{\"class\":\"displaypanel-title hidden-xs\"}).text.replace(\"\\n\",\"\").replace(\"$\",\"\").replace(\",\",\"\"))\n",
    "\n",
    "        # Getting the Address\n",
    "        d[\"Address\"] = item.find_all(\"a\")[0][\"title\"]\n",
    "        \n",
    "        # Assigning a specific location of the other details\n",
    "        details = item.find_all(\"ul\",{\"class\":\"l-pipedlist\"})[1].find_all(\"li\")\n",
    "        for i in range(len(details)):\n",
    "            \n",
    "            # Getting the Bedroom\n",
    "            if 'bd' in details[i].text:\n",
    "                d[\"Bedroom\"] = details[i].text.replace(\" bd\",\"\")\n",
    "                \n",
    "            # Getting the Bathroom\n",
    "            elif 'ba' in details[i].text:\n",
    "                d[\"Bathroom\"] = details[i].text.replace(\" ba\",\"\")\n",
    "                \n",
    "            # Getting the Square Foot\n",
    "            elif 'sf' in details[i].text:\n",
    "                d[\"Square Foot\"] = details[i].text.replace(\" sf\",\"\")\n",
    "                \n",
    "            # Getting the Feet\n",
    "            elif 'ft' in details[i].text:\n",
    "                d[\"Feet\"] = details[i].text.replace(\" ft\",\"\")\n",
    "            else:\n",
    "                pass\n",
    "\n",
    "        # Finally, adding the temp. dic (item dic) of each item to the main dic (list)\n",
    "        list.append(d)"
   ]
  },
  {
   "cell_type": "code",
   "execution_count": 297,
   "metadata": {},
   "outputs": [],
   "source": [
    "# Transforming the dic into a dataframe\n",
    "df = pd.DataFrame(list)\n",
    "\n",
    "# Saving the data on CSV file\n",
    "df.to_csv(\"properties.csv\")"
   ]
  }
 ],
 "metadata": {
  "kernelspec": {
   "display_name": "Python 3",
   "language": "python",
   "name": "python3"
  },
  "language_info": {
   "codemirror_mode": {
    "name": "ipython",
    "version": 3
   },
   "file_extension": ".py",
   "mimetype": "text/x-python",
   "name": "python",
   "nbconvert_exporter": "python",
   "pygments_lexer": "ipython3",
   "version": "3.7.3"
  }
 },
 "nbformat": 4,
 "nbformat_minor": 2
}
