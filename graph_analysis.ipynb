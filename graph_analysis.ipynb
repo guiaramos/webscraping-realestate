{
 "cells": [
  {
   "cell_type": "code",
   "execution_count": 105,
   "metadata": {},
   "outputs": [],
   "source": [
    "# making a bsic Bokeh line graph\n",
    "from bokeh.plotting import figure\n",
    "from bokeh.io import output_file, show\n",
    "from bokeh.models import NumeralTickFormatter\n",
    "from math import isnan\n",
    "import pandas\n",
    "\n",
    "\n",
    "\n",
    "# prepare some data\n",
    "df = pandas.read_csv(\"properties.csv\")\n",
    "x = df[\"Price\"]\n",
    "y = df[\"Square Foot\"]\n",
    "\n",
    "for key in y.keys():\n",
    "    if isnan(y[key]):\n",
    "        x.pop(key)\n",
    "        y.pop(key)\n",
    "\n",
    "#prepare the output file\n",
    "output_file(\"Price_SquareFoot.html\")\n",
    "\n",
    "#create a figure object\n",
    "f = figure()\n",
    "\n",
    "#create circle plot\n",
    "f.circle(x,y)\n",
    "\n",
    "# setting the figure\n",
    "f.title.text=\"Price vs Square Foot\"\n",
    "f.title.text_color=\"Gray\"\n",
    "f.title.text_font=\"times\"\n",
    "f.title.text_font_style=\"bold\"\n",
    "f.xaxis.minor_tick_line_color=None\n",
    "f.yaxis.minor_tick_line_color=None\n",
    "f.xaxis.axis_label=\"Price\"\n",
    "f.yaxis.axis_label=\"Square Foot\"\n",
    "f.xaxis.formatter=NumeralTickFormatter(format=\"0,0 $\")\n",
    "\n",
    "# write the plot in the figure object\n",
    "show(f)"
   ]
  },
  {
   "cell_type": "code",
   "execution_count": null,
   "metadata": {},
   "outputs": [],
   "source": []
  }
 ],
 "metadata": {
  "kernelspec": {
   "display_name": "Python 3",
   "language": "python",
   "name": "python3"
  },
  "language_info": {
   "codemirror_mode": {
    "name": "ipython",
    "version": 3
   },
   "file_extension": ".py",
   "mimetype": "text/x-python",
   "name": "python",
   "nbconvert_exporter": "python",
   "pygments_lexer": "ipython3",
   "version": "3.7.3"
  }
 },
 "nbformat": 4,
 "nbformat_minor": 2
}
