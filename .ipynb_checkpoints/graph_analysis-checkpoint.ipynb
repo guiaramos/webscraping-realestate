{
 "cells": [
  {
   "cell_type": "code",
   "execution_count": 28,
   "metadata": {},
   "outputs": [
    {
     "name": "stdout",
     "output_type": "stream",
     "text": [
      "0     1970\n",
      "1     1971\n",
      "2     1972\n",
      "3     1973\n",
      "4     1974\n",
      "5     1975\n",
      "6     1976\n",
      "7     1977\n",
      "8     1978\n",
      "9     1979\n",
      "10    1980\n",
      "11    1981\n",
      "12    1982\n",
      "13    1983\n",
      "14    1984\n",
      "15    1985\n",
      "16    1986\n",
      "17    1987\n",
      "18    1988\n",
      "19    1989\n",
      "20    1990\n",
      "21    1991\n",
      "22    1992\n",
      "23    1993\n",
      "24    1994\n",
      "25    1995\n",
      "26    1996\n",
      "27    1997\n",
      "28    1998\n",
      "29    1999\n",
      "30    2000\n",
      "31    2001\n",
      "32    2002\n",
      "33    2003\n",
      "34    2004\n",
      "35    2005\n",
      "36    2006\n",
      "37    2007\n",
      "38    2008\n",
      "39    2009\n",
      "40    2010\n",
      "41    2011\n",
      "Name: Year, dtype: int64\n"
     ]
    }
   ],
   "source": [
    "# making a bsic Bokeh line graph\n",
    "from bokeh.plotting import figure\n",
    "from bokeh.io import output_file, show\n",
    "import pandas\n",
    "\n",
    "# prepare some data\n",
    "df = pandas.read_csv(\"properties.csv\")\n",
    "x = df[\"Year\"]\n",
    "y = df[\"Engineering\"]\n",
    "\n",
    "#prepare the output file\n",
    "output_file(\"Line_from_csv_bachelors.html\")\n",
    "\n",
    "#create a figure object\n",
    "f = figure()\n",
    "\n",
    "#create line plot\n",
    "f.line(x,y)\n",
    "\n",
    "# setting the figure\n",
    "f.title.text=\"Barchelors for engeneering\"\n",
    "f.title.text_color=\"Gray\"\n",
    "f.title.text_font=\"times\"\n",
    "f.title.text_font_style=\"bold\"\n",
    "f.xaxis.minor_tick_line_color=None\n",
    "f.yaxis.minor_tick_line_color=None\n",
    "f.xaxis.axis_label=\"Year\"\n",
    "f.yaxis.axis_label=\"Engineering Graduation\"\n",
    "\n",
    "# write the plot in the figure object\n",
    "show(f)\n",
    "\n",
    "print(x)"
   ]
  },
  {
   "cell_type": "code",
   "execution_count": null,
   "metadata": {},
   "outputs": [],
   "source": []
  }
 ],
 "metadata": {
  "kernelspec": {
   "display_name": "Python 3",
   "language": "python",
   "name": "python3"
  },
  "language_info": {
   "codemirror_mode": {
    "name": "ipython",
    "version": 3
   },
   "file_extension": ".py",
   "mimetype": "text/x-python",
   "name": "python",
   "nbconvert_exporter": "python",
   "pygments_lexer": "ipython3",
   "version": "3.7.3"
  }
 },
 "nbformat": 4,
 "nbformat_minor": 2
}
